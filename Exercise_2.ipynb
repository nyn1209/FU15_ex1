{
  "cells": [
    {
      "cell_type": "markdown",
      "metadata": {
        "id": "view-in-github",
        "colab_type": "text"
      },
      "source": [
        "<a href=\"https://colab.research.google.com/github/nyn1209/FU15_ex1/blob/master/Exercise_2.ipynb\" target=\"_parent\"><img src=\"https://colab.research.google.com/assets/colab-badge.svg\" alt=\"Open In Colab\"/></a>"
      ]
    },
    {
      "cell_type": "markdown",
      "id": "f17ebf85-0cb3-43d1-88ff-31e0edcf8555",
      "metadata": {
        "tags": [],
        "id": "f17ebf85-0cb3-43d1-88ff-31e0edcf8555"
      },
      "source": [
        "# Heading level 1\n",
        "## Heading level 2\n",
        "### Heading level 3\n",
        "#### Heading level 4\n",
        "##### Heading level 5\n",
        "###### Heading level 6"
      ]
    },
    {
      "cell_type": "markdown",
      "id": "80bbab03-ff83-46b7-9cff-c48e13ca7536",
      "metadata": {
        "tags": [],
        "id": "80bbab03-ff83-46b7-9cff-c48e13ca7536"
      },
      "source": [
        "__two underscores before and after the text__"
      ]
    },
    {
      "cell_type": "markdown",
      "id": "d76b53aa-fb40-4c18-b22a-b2b7fc047595",
      "metadata": {
        "tags": [],
        "id": "d76b53aa-fb40-4c18-b22a-b2b7fc047595"
      },
      "source": [
        "_single underscore before and after the text_"
      ]
    },
    {
      "cell_type": "markdown",
      "id": "166e507f-cb20-4e04-a323-0ee423ddb574",
      "metadata": {
        "id": "166e507f-cb20-4e04-a323-0ee423ddb574"
      },
      "source": [
        "- Dash before text\n",
        "- will print the text\n",
        "- with numbered point"
      ]
    },
    {
      "cell_type": "markdown",
      "id": "3e2d6655-c197-4edc-bf30-9badbb587b8f",
      "metadata": {
        "tags": [],
        "id": "3e2d6655-c197-4edc-bf30-9badbb587b8f"
      },
      "source": [
        "1. sample\n",
        "2. text\n",
        "3. test"
      ]
    },
    {
      "cell_type": "markdown",
      "id": "2e5ad851-0d02-4bd8-8245-79ea7806ded9",
      "metadata": {
        "id": "2e5ad851-0d02-4bd8-8245-79ea7806ded9"
      },
      "source": [
        "| Heading 1 | Heading 2 |\n",
        "| ----------- | ----------- |\n",
        "| 1 | xx |\n",
        "| 2 | yy |\n",
        "\n"
      ]
    },
    {
      "cell_type": "markdown",
      "id": "ddade649-472f-40de-93b4-6a6d4a31e602",
      "metadata": {
        "id": "ddade649-472f-40de-93b4-6a6d4a31e602"
      },
      "source": [
        "![Apple](apple_image.jpg)"
      ]
    },
    {
      "cell_type": "markdown",
      "id": "a5ec7be8-768d-4a59-aa9d-a33bfd301a69",
      "metadata": {
        "id": "a5ec7be8-768d-4a59-aa9d-a33bfd301a69"
      },
      "source": [
        "<u>Underscore text </u>"
      ]
    },
    {
      "cell_type": "markdown",
      "id": "bdfcce93-b330-423d-9423-831d9cb6e57b",
      "metadata": {
        "tags": [],
        "id": "bdfcce93-b330-423d-9423-831d9cb6e57b"
      },
      "source": [
        "***"
      ]
    },
    {
      "cell_type": "code",
      "execution_count": null,
      "id": "a6df938e-d64d-4914-a8f4-6a2a00f1e8da",
      "metadata": {
        "tags": [],
        "id": "a6df938e-d64d-4914-a8f4-6a2a00f1e8da",
        "outputId": "b20fbc18-ea8d-4a00-b609-43e6aefa97f9"
      },
      "outputs": [
        {
          "name": "stdout",
          "output_type": "stream",
          "text": [
            "Hello World\n"
          ]
        }
      ],
      "source": [
        "print(\"Hello World\")"
      ]
    },
    {
      "cell_type": "code",
      "execution_count": null,
      "id": "1683a573-de3a-4b56-a808-bdc9d059303a",
      "metadata": {
        "tags": [],
        "id": "1683a573-de3a-4b56-a808-bdc9d059303a"
      },
      "outputs": [],
      "source": [
        "a = 10"
      ]
    },
    {
      "cell_type": "code",
      "execution_count": null,
      "id": "efaa7314-3647-44d7-b62d-4dea08278f99",
      "metadata": {
        "tags": [],
        "id": "efaa7314-3647-44d7-b62d-4dea08278f99",
        "outputId": "cba891b9-c5f4-45cd-c24d-710525e94f73"
      },
      "outputs": [
        {
          "name": "stdout",
          "output_type": "stream",
          "text": [
            "10\n"
          ]
        }
      ],
      "source": [
        "print(a)"
      ]
    },
    {
      "cell_type": "code",
      "execution_count": null,
      "id": "dc3d1d43-21e0-4dc6-9f7a-2474648a3595",
      "metadata": {
        "tags": [],
        "id": "dc3d1d43-21e0-4dc6-9f7a-2474648a3595",
        "outputId": "c7de5f11-f88c-4304-8cee-a2a97e6d901b"
      },
      "outputs": [
        {
          "name": "stdout",
          "output_type": "stream",
          "text": [
            "<class 'int'>\n"
          ]
        }
      ],
      "source": [
        "print(type(a))"
      ]
    },
    {
      "cell_type": "code",
      "execution_count": null,
      "id": "ec0a3e3e-4ecb-4778-b2bb-da8b308bedde",
      "metadata": {
        "tags": [],
        "id": "ec0a3e3e-4ecb-4778-b2bb-da8b308bedde"
      },
      "outputs": [],
      "source": [
        "string = \"Hello\""
      ]
    },
    {
      "cell_type": "code",
      "execution_count": null,
      "id": "0e7217a1-2727-4364-8f55-8ee0c1b18c96",
      "metadata": {
        "tags": [],
        "id": "0e7217a1-2727-4364-8f55-8ee0c1b18c96",
        "outputId": "b2cb64e2-9fe5-468c-d6ee-c94a166c9886"
      },
      "outputs": [
        {
          "name": "stdout",
          "output_type": "stream",
          "text": [
            "e\n"
          ]
        }
      ],
      "source": [
        "print(string[1])"
      ]
    },
    {
      "cell_type": "code",
      "execution_count": null,
      "id": "1e4ff2e7-bba6-4d14-b596-51563f92cc99",
      "metadata": {
        "tags": [],
        "id": "1e4ff2e7-bba6-4d14-b596-51563f92cc99",
        "outputId": "ad4d428d-3284-4876-d954-cae835008926"
      },
      "outputs": [
        {
          "name": "stdout",
          "output_type": "stream",
          "text": [
            "5\n"
          ]
        }
      ],
      "source": [
        "print(len(string))"
      ]
    },
    {
      "cell_type": "code",
      "execution_count": null,
      "id": "89bc1cd4-eb7f-4b8f-9e48-90face8b71d9",
      "metadata": {
        "tags": [],
        "id": "89bc1cd4-eb7f-4b8f-9e48-90face8b71d9",
        "outputId": "82f7df7d-9d0c-455d-8e2c-0b3976fdaf26"
      },
      "outputs": [
        {
          "name": "stdout",
          "output_type": "stream",
          "text": [
            "Both Strings are not same.\n"
          ]
        }
      ],
      "source": [
        "string2 = \"World\"\n",
        "if string == string2:\n",
        " print(\"Both Strings are same.\")\n",
        "else:\n",
        " print(\"Both Strings are not same.\")\n"
      ]
    },
    {
      "cell_type": "code",
      "execution_count": null,
      "id": "b15a9be0-7400-45dc-b2f3-0e343b5448a7",
      "metadata": {
        "tags": [],
        "id": "b15a9be0-7400-45dc-b2f3-0e343b5448a7",
        "outputId": "f5e65ad1-9919-42db-9ceb-c0f168f2446d"
      },
      "outputs": [
        {
          "name": "stdout",
          "output_type": "stream",
          "text": [
            "HelloWorld\n"
          ]
        }
      ],
      "source": [
        "string3 = string + string2\n",
        "print(string3)"
      ]
    },
    {
      "cell_type": "code",
      "execution_count": null,
      "id": "4fd34928-674f-45a8-9310-25d926b99adc",
      "metadata": {
        "tags": [],
        "id": "4fd34928-674f-45a8-9310-25d926b99adc"
      },
      "outputs": [],
      "source": [
        "sampleList = [3, 5, 6, 18, 10]"
      ]
    },
    {
      "cell_type": "code",
      "execution_count": null,
      "id": "63fa5a65-522e-4ad3-a5a9-5a8acf279ac3",
      "metadata": {
        "tags": [],
        "id": "63fa5a65-522e-4ad3-a5a9-5a8acf279ac3",
        "outputId": "d99577c4-592d-41f1-810f-d2d31315d10f"
      },
      "outputs": [
        {
          "name": "stdout",
          "output_type": "stream",
          "text": [
            "5\n"
          ]
        }
      ],
      "source": [
        "print(len(sampleList))"
      ]
    },
    {
      "cell_type": "code",
      "execution_count": null,
      "id": "f713e771-b8e3-4e8f-915d-1fbfbc0f2fb5",
      "metadata": {
        "tags": [],
        "id": "f713e771-b8e3-4e8f-915d-1fbfbc0f2fb5",
        "outputId": "1ef994c9-57b0-4513-b075-31628a245af7"
      },
      "outputs": [
        {
          "name": "stdout",
          "output_type": "stream",
          "text": [
            "3\n",
            "5\n",
            "6\n",
            "18\n",
            "10\n"
          ]
        }
      ],
      "source": [
        "for i in sampleList:\n",
        " print(i)"
      ]
    },
    {
      "cell_type": "code",
      "execution_count": null,
      "id": "dcb86ff8-cf93-42bd-9a0a-92b82a32ffc8",
      "metadata": {
        "tags": [],
        "id": "dcb86ff8-cf93-42bd-9a0a-92b82a32ffc8"
      },
      "outputs": [],
      "source": [
        "sampleList.append(22)"
      ]
    },
    {
      "cell_type": "code",
      "execution_count": null,
      "id": "e3a11417-70bc-4695-ba50-c22e25eebd17",
      "metadata": {
        "tags": [],
        "id": "e3a11417-70bc-4695-ba50-c22e25eebd17"
      },
      "outputs": [],
      "source": [
        "sampleList.remove(3)"
      ]
    },
    {
      "cell_type": "code",
      "execution_count": null,
      "id": "c2d3ef15-a0c1-4d3b-b8e5-c54ee1c44bf3",
      "metadata": {
        "tags": [],
        "id": "c2d3ef15-a0c1-4d3b-b8e5-c54ee1c44bf3",
        "outputId": "47615c04-8ef5-4242-ba2b-87661fee94d4"
      },
      "outputs": [
        {
          "name": "stdout",
          "output_type": "stream",
          "text": [
            "5\n",
            "22\n"
          ]
        }
      ],
      "source": [
        "print(min(sampleList))\n",
        "print(max(sampleList))"
      ]
    },
    {
      "cell_type": "code",
      "execution_count": null,
      "id": "995dc18b-6789-48a1-bee9-16edc03830f1",
      "metadata": {
        "tags": [],
        "id": "995dc18b-6789-48a1-bee9-16edc03830f1",
        "outputId": "c8425ba7-cf87-4eb7-ae6b-ddf36d492434"
      },
      "outputs": [
        {
          "name": "stdin",
          "output_type": "stream",
          "text": [
            "Enter your name: Nhi\n"
          ]
        }
      ],
      "source": [
        "name = input(\"Enter your name:\")"
      ]
    },
    {
      "cell_type": "code",
      "execution_count": null,
      "id": "ea4831f3-bc18-4871-844f-000169709def",
      "metadata": {
        "tags": [],
        "id": "ea4831f3-bc18-4871-844f-000169709def",
        "outputId": "e21a35cb-4f19-4645-89d0-5e8706d6cd49"
      },
      "outputs": [
        {
          "name": "stdout",
          "output_type": "stream",
          "text": [
            "Hello Nhi ! \n"
          ]
        }
      ],
      "source": [
        "print(\"Hello \" + name + \" ! \")"
      ]
    },
    {
      "cell_type": "code",
      "execution_count": null,
      "id": "d7c3f20e-e778-4cb1-b73e-c751ec69fdc2",
      "metadata": {
        "tags": [],
        "id": "d7c3f20e-e778-4cb1-b73e-c751ec69fdc2",
        "outputId": "ec5bc5dd-af01-48f3-b4a2-20b998f37b18"
      },
      "outputs": [
        {
          "name": "stdin",
          "output_type": "stream",
          "text": [
            "Enter a number:  22\n"
          ]
        }
      ],
      "source": [
        "num = int(input(\"Enter a number: \"))"
      ]
    },
    {
      "cell_type": "code",
      "execution_count": null,
      "id": "b55eb595-002c-4b7e-a2d4-1cbba45b0464",
      "metadata": {
        "tags": [],
        "id": "b55eb595-002c-4b7e-a2d4-1cbba45b0464",
        "outputId": "e00e032e-c0cc-4c01-9dee-9319801562cb"
      },
      "outputs": [
        {
          "name": "stdout",
          "output_type": "stream",
          "text": [
            "22\n"
          ]
        }
      ],
      "source": [
        "print(num)"
      ]
    },
    {
      "cell_type": "code",
      "execution_count": null,
      "id": "5807d5eb-4277-466a-b044-29bfa769dc8d",
      "metadata": {
        "tags": [],
        "id": "5807d5eb-4277-466a-b044-29bfa769dc8d",
        "outputId": "f936c8ab-a626-4283-dedb-9480d6af06f6"
      },
      "outputs": [
        {
          "name": "stdout",
          "output_type": "stream",
          "text": [
            "The total sum of values a and b is: 30\n",
            "The total sum of values a and b is: 30\n",
            "The total sum of values a and b is: 30\n"
          ]
        }
      ],
      "source": [
        "a = 20\n",
        "b = 10\n",
        "sum = a + b\n",
        "# Several ways to print\n",
        "print(\"The total sum of values a and b is: {}\".format(sum))\n",
        "print(\"The total sum of values a and b is: %d\" %sum)\n",
        "print(\"The total sum of values a and b is:\", sum)"
      ]
    },
    {
      "cell_type": "code",
      "execution_count": null,
      "id": "d059bd0f-8f36-40ff-879b-d3e535eefacd",
      "metadata": {
        "tags": [],
        "id": "d059bd0f-8f36-40ff-879b-d3e535eefacd",
        "outputId": "ace95624-91f6-4862-a4dc-7b193ca3cf5b"
      },
      "outputs": [
        {
          "name": "stdin",
          "output_type": "stream",
          "text": [
            "Enter any three values:  1 2 3\n"
          ]
        },
        {
          "name": "stdout",
          "output_type": "stream",
          "text": [
            "First number:  1\n",
            "Second number:  2\n",
            "Third number:  3\n"
          ]
        }
      ],
      "source": [
        "a, b, c = input(\"Enter any three values: \").split()\n",
        "print(\"First number: \", a)\n",
        "print(\"Second number: \", b)\n",
        "print(\"Third number: \", c)"
      ]
    },
    {
      "cell_type": "code",
      "execution_count": null,
      "id": "0cfd1d2d-95d1-4709-8115-271fd96223de",
      "metadata": {
        "tags": [],
        "id": "0cfd1d2d-95d1-4709-8115-271fd96223de"
      },
      "outputs": [],
      "source": [
        "def HelloWorld():\n",
        " print(\"Hello World\")"
      ]
    },
    {
      "cell_type": "code",
      "execution_count": null,
      "id": "86ba454a-fde0-4fd0-805c-d945027df209",
      "metadata": {
        "tags": [],
        "id": "86ba454a-fde0-4fd0-805c-d945027df209",
        "outputId": "645db306-6b15-4d7e-9bf8-4f19f79de96d"
      },
      "outputs": [
        {
          "name": "stdout",
          "output_type": "stream",
          "text": [
            "Hello World\n"
          ]
        }
      ],
      "source": [
        "HelloWorld()"
      ]
    },
    {
      "cell_type": "code",
      "execution_count": null,
      "id": "d29af65d-94cf-4a8c-8536-93fc0043b903",
      "metadata": {
        "tags": [],
        "id": "d29af65d-94cf-4a8c-8536-93fc0043b903"
      },
      "outputs": [],
      "source": [
        "## Syntax: !pip install package-name\n",
        "Example: !pip install pami"
      ]
    },
    {
      "cell_type": "code",
      "execution_count": null,
      "id": "4d171984-178d-418e-973d-85b6776c6295",
      "metadata": {
        "id": "4d171984-178d-418e-973d-85b6776c6295"
      },
      "outputs": [],
      "source": [
        "# Reading a .csv file\n",
        "import csv\n",
        "file = open('fileName.csv')\n",
        "csvreader = csv.reader(file)\n",
        "# Printing Column names in csv file\n",
        "header = next(csvreader)\n",
        "print(header)"
      ]
    },
    {
      "cell_type": "code",
      "execution_count": null,
      "id": "07723ffa-0eb6-4679-8fe5-c33be7bbc735",
      "metadata": {
        "id": "07723ffa-0eb6-4679-8fe5-c33be7bbc735"
      },
      "outputs": [],
      "source": [
        "# Reading csv file into a dataframe\n",
        "import pandas as pd\n",
        "df = pd.read_csv('inputFileName.csv')\n",
        "# If you get error to open the file using the above code give absolute pa\n",
        "# df = pd.read_csv('Exercise_1/inputFileName.csv')\n",
        "# You can get absolute path by right click -> copy path.\n",
        "# Printing the first rows of dataframe\n",
        "print(df.head())\n",
        "# Printing the column names\n",
        "print(df.columns)\n",
        "# Dropping columns from dataframe\n",
        "print(df.drop('stationId', axis=1)"
      ]
    },
    {
      "cell_type": "code",
      "execution_count": null,
      "id": "4732a12d-44ae-463c-93a1-117f511602d8",
      "metadata": {
        "id": "4732a12d-44ae-463c-93a1-117f511602d8"
      },
      "outputs": [],
      "source": [
        "# Printing number of rows and columns in dataframe\n",
        "print(df.shape)\n"
      ]
    }
  ],
  "metadata": {
    "kernelspec": {
      "display_name": "Python 3 (ipykernel)",
      "language": "python",
      "name": "python3"
    },
    "language_info": {
      "codemirror_mode": {
        "name": "ipython",
        "version": 3
      },
      "file_extension": ".py",
      "mimetype": "text/x-python",
      "name": "python",
      "nbconvert_exporter": "python",
      "pygments_lexer": "ipython3",
      "version": "3.11.5"
    },
    "colab": {
      "provenance": [],
      "include_colab_link": true
    }
  },
  "nbformat": 4,
  "nbformat_minor": 5
}